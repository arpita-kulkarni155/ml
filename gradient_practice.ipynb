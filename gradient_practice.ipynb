{
 "cells": [
  {
   "cell_type": "code",
   "execution_count": 3,
   "id": "c398a8be-2666-4331-9326-58b642a58958",
   "metadata": {},
   "outputs": [],
   "source": [
    "import pandas as pd\n",
    "import numpy as np\n",
    "import seaborn as sns\n",
    "import matplotlib.pyplot as plt\n",
    "import sympy as sym"
   ]
  },
  {
   "cell_type": "code",
   "execution_count": 2,
   "id": "b6dfb568-4d45-444f-a3ab-d4610da278ca",
   "metadata": {},
   "outputs": [
    {
     "name": "stdout",
     "output_type": "stream",
     "text": [
      "Collecting sympy\n",
      "  Downloading sympy-1.13.3-py3-none-any.whl.metadata (12 kB)\n",
      "Collecting mpmath<1.4,>=1.1.0 (from sympy)\n",
      "  Downloading mpmath-1.3.0-py3-none-any.whl.metadata (8.6 kB)\n",
      "Downloading sympy-1.13.3-py3-none-any.whl (6.2 MB)\n",
      "   ---------------------------------------- 0.0/6.2 MB ? eta -:--:--\n",
      "   - -------------------------------------- 0.2/6.2 MB 4.6 MB/s eta 0:00:02\n",
      "   ---- ----------------------------------- 0.6/6.2 MB 6.6 MB/s eta 0:00:01\n",
      "   ------ --------------------------------- 1.0/6.2 MB 7.8 MB/s eta 0:00:01\n",
      "   -------- ------------------------------- 1.3/6.2 MB 7.3 MB/s eta 0:00:01\n",
      "   -------- ------------------------------- 1.3/6.2 MB 7.3 MB/s eta 0:00:01\n",
      "   --------- ------------------------------ 1.4/6.2 MB 5.4 MB/s eta 0:00:01\n",
      "   ---------- ----------------------------- 1.6/6.2 MB 5.7 MB/s eta 0:00:01\n",
      "   ------------- -------------------------- 2.0/6.2 MB 5.7 MB/s eta 0:00:01\n",
      "   --------------- ------------------------ 2.5/6.2 MB 6.0 MB/s eta 0:00:01\n",
      "   ----------------- ---------------------- 2.7/6.2 MB 5.9 MB/s eta 0:00:01\n",
      "   ------------------- -------------------- 3.1/6.2 MB 6.1 MB/s eta 0:00:01\n",
      "   --------------------- ------------------ 3.3/6.2 MB 6.0 MB/s eta 0:00:01\n",
      "   ------------------------ --------------- 3.7/6.2 MB 6.2 MB/s eta 0:00:01\n",
      "   ------------------------- -------------- 4.0/6.2 MB 6.2 MB/s eta 0:00:01\n",
      "   ---------------------------- ----------- 4.5/6.2 MB 6.5 MB/s eta 0:00:01\n",
      "   ------------------------------- -------- 4.9/6.2 MB 6.7 MB/s eta 0:00:01\n",
      "   --------------------------------- ------ 5.2/6.2 MB 6.7 MB/s eta 0:00:01\n",
      "   ------------------------------------- -- 5.7/6.2 MB 6.9 MB/s eta 0:00:01\n",
      "   ---------------------------------------  6.1/6.2 MB 7.0 MB/s eta 0:00:01\n",
      "   ---------------------------------------  6.2/6.2 MB 6.9 MB/s eta 0:00:01\n",
      "   ---------------------------------------- 6.2/6.2 MB 6.6 MB/s eta 0:00:00\n",
      "Downloading mpmath-1.3.0-py3-none-any.whl (536 kB)\n",
      "   ---------------------------------------- 0.0/536.2 kB ? eta -:--:--\n",
      "   ------------------------------------ -- 501.8/536.2 kB 10.5 MB/s eta 0:00:01\n",
      "   ---------------------------------------- 536.2/536.2 kB 8.3 MB/s eta 0:00:00\n",
      "Installing collected packages: mpmath, sympy\n",
      "Successfully installed mpmath-1.3.0 sympy-1.13.3\n",
      "Note: you may need to restart the kernel to use updated packages.\n"
     ]
    },
    {
     "name": "stderr",
     "output_type": "stream",
     "text": [
      "\n",
      "[notice] A new release of pip is available: 24.0 -> 24.3.1\n",
      "[notice] To update, run: python.exe -m pip install --upgrade pip\n"
     ]
    }
   ],
   "source": [
    "pip install sympy"
   ]
  },
  {
   "cell_type": "code",
   "execution_count": 5,
   "id": "410f54ad-0700-4e68-ad6f-3ff0a10629fa",
   "metadata": {},
   "outputs": [],
   "source": [
    "def objective(x):\n",
    "    return (x+3)**2"
   ]
  },
  {
   "cell_type": "code",
   "execution_count": 6,
   "id": "6d581798-85a7-4b2c-96ae-585b5699b4c6",
   "metadata": {},
   "outputs": [],
   "source": [
    "def derivative(x):\n",
    "    return 2*(x+3)"
   ]
  },
  {
   "cell_type": "code",
   "execution_count": 10,
   "id": "012e06e3-8a7d-462f-a5ca-9a5da719e28e",
   "metadata": {},
   "outputs": [
    {
     "name": "stdout",
     "output_type": "stream",
     "text": [
      "2.0*(x + 3)**1.0\n"
     ]
    },
    {
     "data": {
      "text/latex": [
       "$\\displaystyle 10.0$"
      ],
      "text/plain": [
       "10.0000000000000"
      ]
     },
     "execution_count": 10,
     "metadata": {},
     "output_type": "execute_result"
    }
   ],
   "source": [
    "def gradient(alpha,start,max_iter):\n",
    "    x_list=list()\n",
    "    x=start;\n",
    "    x_list.append(x)\n",
    "    for i in range(max_iter):\n",
    "        gradi=derivative(x)\n",
    "        x=x-(alpha*gradi)\n",
    "        x_list.append(x)\n",
    "    return x_list \n",
    "x=sym.symbols('x')\n",
    "expr=(x+3)**2.0\n",
    "grad=sym.Derivative(expr,x)\n",
    "print(\"{}\".format(grad.doit()))\n",
    "grad.doit().subs(x,2)"
   ]
  },
  {
   "cell_type": "code",
   "execution_count": 12,
   "id": "6235a71a-c141-471c-8df3-73bf12c2a8be",
   "metadata": {},
   "outputs": [],
   "source": [
    "alpha=0.1\n",
    "start=2\n",
    "max_iter=30\n",
    "x=sym.symbols('x')\n",
    "expr=(x+3)**2.0\n"
   ]
  },
  {
   "cell_type": "code",
   "execution_count": null,
   "id": "3619f235-83aa-4571-a3bc-e2bac28ad481",
   "metadata": {},
   "outputs": [],
   "source": []
  }
 ],
 "metadata": {
  "kernelspec": {
   "display_name": "Python 3 (ipykernel)",
   "language": "python",
   "name": "python3"
  },
  "language_info": {
   "codemirror_mode": {
    "name": "ipython",
    "version": 3
   },
   "file_extension": ".py",
   "mimetype": "text/x-python",
   "name": "python",
   "nbconvert_exporter": "python",
   "pygments_lexer": "ipython3",
   "version": "3.12.0"
  }
 },
 "nbformat": 4,
 "nbformat_minor": 5
}
